{
 "cells": [
  {
   "cell_type": "code",
   "execution_count": 1,
   "metadata": {},
   "outputs": [],
   "source": [
    "import requests\n",
    "import re\n",
    "import urllib.request\n",
    "import bs4\n",
    "from bs4 import BeautifulSoup\n",
    "import pandas as pd\n",
    "from urllib.request import Request, urlopen\n",
    "import csv"
   ]
  },
  {
   "cell_type": "code",
   "execution_count": 2,
   "metadata": {},
   "outputs": [
    {
     "data": {
      "text/plain": [
       "<Response [200]>"
      ]
     },
     "execution_count": 2,
     "metadata": {},
     "output_type": "execute_result"
    }
   ],
   "source": [
    "#getting link address\n",
    "# Set the URL and Connect to the URL\n",
    "url = 'http://export.arxiv.org/rss/cs'\n",
    "response = requests.get(url)\n",
    "response"
   ]
  },
  {
   "cell_type": "code",
   "execution_count": 3,
   "metadata": {},
   "outputs": [],
   "source": [
    "# Parse HTML and save to BeautifulSoup object\n",
    "soup = BeautifulSoup(response.text, 'html.parser')\n",
    "#soup"
   ]
  },
  {
   "cell_type": "code",
   "execution_count": 4,
   "metadata": {},
   "outputs": [
    {
     "name": "stdout",
     "output_type": "stream",
     "text": [
      "Please enter a number : 7\n"
     ]
    }
   ],
   "source": [
    "def digits():\n",
    "    msg = \"Please enter a number : \"\n",
    "    valid = False\n",
    "    while not valid:\n",
    "        x = input(msg)  \n",
    "        try:\n",
    "            x = int(x)\n",
    "        except ValueError:\n",
    "            msg = \"Try again, Enter a digit only: \"\n",
    "        else:\n",
    "            valid = x > 0\n",
    "            if not valid:\n",
    "                msg = \"Try again, Enter an number greater than 0: \"\n",
    "    #print(f\"Yes, you have entered {x}.\")\n",
    "    return (x)\n",
    "    \n",
    "    \n",
    "N = digits()"
   ]
  },
  {
   "cell_type": "code",
   "execution_count": 5,
   "metadata": {},
   "outputs": [],
   "source": [
    "#To locate all  'rdf:li'  tags\n",
    "all_links = soup.find_all('rdf:li')\n",
    "#all_links"
   ]
  },
  {
   "cell_type": "code",
   "execution_count": 6,
   "metadata": {},
   "outputs": [],
   "source": [
    "# extract the actual link\n",
    "all_links=soup.findAll('rdf:li')\n",
    "#for link in all_links:\n",
    "#    print(link.get(\"rdf:resource\"))"
   ]
  },
  {
   "cell_type": "code",
   "execution_count": 7,
   "metadata": {},
   "outputs": [],
   "source": [
    "link_list=[]\n",
    "all_links=soup.findAll('rdf:li')\n",
    "i=N\n",
    "for link in all_links:\n",
    "    if (i > 0):\n",
    "        link_list.append(link.get(\"rdf:resource\"))\n",
    "        i=i-1 \n",
    "        "
   ]
  },
  {
   "cell_type": "code",
   "execution_count": 8,
   "metadata": {},
   "outputs": [
    {
     "data": {
      "text/html": [
       "<div>\n",
       "<style scoped>\n",
       "    .dataframe tbody tr th:only-of-type {\n",
       "        vertical-align: middle;\n",
       "    }\n",
       "\n",
       "    .dataframe tbody tr th {\n",
       "        vertical-align: top;\n",
       "    }\n",
       "\n",
       "    .dataframe thead th {\n",
       "        text-align: right;\n",
       "    }\n",
       "</style>\n",
       "<table border=\"1\" class=\"dataframe\">\n",
       "  <thead>\n",
       "    <tr style=\"text-align: right;\">\n",
       "      <th></th>\n",
       "      <th>link</th>\n",
       "    </tr>\n",
       "  </thead>\n",
       "  <tbody>\n",
       "    <tr>\n",
       "      <th>0</th>\n",
       "      <td>http://arxiv.org/abs/2102.11887</td>\n",
       "    </tr>\n",
       "    <tr>\n",
       "      <th>1</th>\n",
       "      <td>http://arxiv.org/abs/2102.11893</td>\n",
       "    </tr>\n",
       "    <tr>\n",
       "      <th>2</th>\n",
       "      <td>http://arxiv.org/abs/2102.11896</td>\n",
       "    </tr>\n",
       "    <tr>\n",
       "      <th>3</th>\n",
       "      <td>http://arxiv.org/abs/2102.11901</td>\n",
       "    </tr>\n",
       "    <tr>\n",
       "      <th>4</th>\n",
       "      <td>http://arxiv.org/abs/2102.11903</td>\n",
       "    </tr>\n",
       "    <tr>\n",
       "      <th>5</th>\n",
       "      <td>http://arxiv.org/abs/2102.11905</td>\n",
       "    </tr>\n",
       "    <tr>\n",
       "      <th>6</th>\n",
       "      <td>http://arxiv.org/abs/2102.11906</td>\n",
       "    </tr>\n",
       "  </tbody>\n",
       "</table>\n",
       "</div>"
      ],
      "text/plain": [
       "                              link\n",
       "0  http://arxiv.org/abs/2102.11887\n",
       "1  http://arxiv.org/abs/2102.11893\n",
       "2  http://arxiv.org/abs/2102.11896\n",
       "3  http://arxiv.org/abs/2102.11901\n",
       "4  http://arxiv.org/abs/2102.11903\n",
       "5  http://arxiv.org/abs/2102.11905\n",
       "6  http://arxiv.org/abs/2102.11906"
      ]
     },
     "execution_count": 8,
     "metadata": {},
     "output_type": "execute_result"
    }
   ],
   "source": [
    "link_list=pd.DataFrame(link_list)\n",
    "link_list.columns=['link']\n",
    "link_list.head(N)"
   ]
  },
  {
   "cell_type": "code",
   "execution_count": 9,
   "metadata": {},
   "outputs": [
    {
     "data": {
      "text/plain": [
       "<Response [200]>"
      ]
     },
     "execution_count": 9,
     "metadata": {},
     "output_type": "execute_result"
    }
   ],
   "source": [
    "#getting title and description \n",
    "url1 = 'https://arxiv.org/list/cs/new'\n",
    "response1 = requests.get(url1)\n",
    "response1"
   ]
  },
  {
   "cell_type": "code",
   "execution_count": 10,
   "metadata": {},
   "outputs": [],
   "source": [
    "soup1 = BeautifulSoup(response1.text, 'html.parser')\n",
    "#soup1"
   ]
  },
  {
   "cell_type": "code",
   "execution_count": 11,
   "metadata": {},
   "outputs": [],
   "source": [
    "all_titles=soup1.find_all('div', class_='list-title mathjax')\n",
    "#print(all_titles)"
   ]
  },
  {
   "cell_type": "code",
   "execution_count": 12,
   "metadata": {},
   "outputs": [
    {
     "data": {
      "text/html": [
       "<div>\n",
       "<style scoped>\n",
       "    .dataframe tbody tr th:only-of-type {\n",
       "        vertical-align: middle;\n",
       "    }\n",
       "\n",
       "    .dataframe tbody tr th {\n",
       "        vertical-align: top;\n",
       "    }\n",
       "\n",
       "    .dataframe thead th {\n",
       "        text-align: right;\n",
       "    }\n",
       "</style>\n",
       "<table border=\"1\" class=\"dataframe\">\n",
       "  <thead>\n",
       "    <tr style=\"text-align: right;\">\n",
       "      <th></th>\n",
       "      <th>title</th>\n",
       "    </tr>\n",
       "  </thead>\n",
       "  <tbody>\n",
       "    <tr>\n",
       "      <th>0</th>\n",
       "      <td>Title: Good Actors can come in Smaller Sizes: ...</td>\n",
       "    </tr>\n",
       "    <tr>\n",
       "      <th>1</th>\n",
       "      <td>Title: Targeted False Data Injection Attack ag...</td>\n",
       "    </tr>\n",
       "    <tr>\n",
       "      <th>2</th>\n",
       "      <td>Title: Construction of arbitrary order finite ...</td>\n",
       "    </tr>\n",
       "    <tr>\n",
       "      <th>3</th>\n",
       "      <td>Title: Neural Ranking Models for Document Retr...</td>\n",
       "    </tr>\n",
       "    <tr>\n",
       "      <th>4</th>\n",
       "      <td>Title: Grounded Relational Inference: Domain K...</td>\n",
       "    </tr>\n",
       "    <tr>\n",
       "      <th>5</th>\n",
       "      <td>Title: A predictive safety filter for learning...</td>\n",
       "    </tr>\n",
       "    <tr>\n",
       "      <th>6</th>\n",
       "      <td>Title: Instance Specific Approximations for Su...</td>\n",
       "    </tr>\n",
       "  </tbody>\n",
       "</table>\n",
       "</div>"
      ],
      "text/plain": [
       "                                               title\n",
       "0  Title: Good Actors can come in Smaller Sizes: ...\n",
       "1  Title: Targeted False Data Injection Attack ag...\n",
       "2  Title: Construction of arbitrary order finite ...\n",
       "3  Title: Neural Ranking Models for Document Retr...\n",
       "4  Title: Grounded Relational Inference: Domain K...\n",
       "5  Title: A predictive safety filter for learning...\n",
       "6  Title: Instance Specific Approximations for Su..."
      ]
     },
     "execution_count": 12,
     "metadata": {},
     "output_type": "execute_result"
    }
   ],
   "source": [
    "title_list=[]\n",
    "i=N\n",
    "for title in all_titles:\n",
    "     if (i > 0):\n",
    "        title = title.text.strip()\n",
    "        title_list.append(title)\n",
    "        i=i-1 \n",
    "    \n",
    "title_list=pd.DataFrame(title_list)\n",
    "title_list.columns=['title']\n",
    "title_list.head(N)"
   ]
  },
  {
   "cell_type": "code",
   "execution_count": 13,
   "metadata": {},
   "outputs": [],
   "source": [
    "all_descriptions=soup1.find_all('p', class_='mathjax')\n",
    "#print(all_descriptions)"
   ]
  },
  {
   "cell_type": "code",
   "execution_count": 14,
   "metadata": {},
   "outputs": [
    {
     "data": {
      "text/html": [
       "<div>\n",
       "<style scoped>\n",
       "    .dataframe tbody tr th:only-of-type {\n",
       "        vertical-align: middle;\n",
       "    }\n",
       "\n",
       "    .dataframe tbody tr th {\n",
       "        vertical-align: top;\n",
       "    }\n",
       "\n",
       "    .dataframe thead th {\n",
       "        text-align: right;\n",
       "    }\n",
       "</style>\n",
       "<table border=\"1\" class=\"dataframe\">\n",
       "  <thead>\n",
       "    <tr style=\"text-align: right;\">\n",
       "      <th></th>\n",
       "      <th>description</th>\n",
       "    </tr>\n",
       "  </thead>\n",
       "  <tbody>\n",
       "    <tr>\n",
       "      <th>0</th>\n",
       "      <td>Actors and critics in actor-critic reinforceme...</td>\n",
       "    </tr>\n",
       "    <tr>\n",
       "      <th>1</th>\n",
       "      <td>A novel false data injection attack (FDIA) mod...</td>\n",
       "    </tr>\n",
       "    <tr>\n",
       "      <th>2</th>\n",
       "      <td>We develop an approach to generating degree-of...</td>\n",
       "    </tr>\n",
       "    <tr>\n",
       "      <th>3</th>\n",
       "      <td>Ranking models are the main components of info...</td>\n",
       "    </tr>\n",
       "    <tr>\n",
       "      <th>4</th>\n",
       "      <td>Explainability is essential for autonomous veh...</td>\n",
       "    </tr>\n",
       "    <tr>\n",
       "      <th>5</th>\n",
       "      <td>The growing need for high-performance controll...</td>\n",
       "    </tr>\n",
       "    <tr>\n",
       "      <th>6</th>\n",
       "      <td>For many optimization problems in machine lear...</td>\n",
       "    </tr>\n",
       "  </tbody>\n",
       "</table>\n",
       "</div>"
      ],
      "text/plain": [
       "                                         description\n",
       "0  Actors and critics in actor-critic reinforceme...\n",
       "1  A novel false data injection attack (FDIA) mod...\n",
       "2  We develop an approach to generating degree-of...\n",
       "3  Ranking models are the main components of info...\n",
       "4  Explainability is essential for autonomous veh...\n",
       "5  The growing need for high-performance controll...\n",
       "6  For many optimization problems in machine lear..."
      ]
     },
     "execution_count": 14,
     "metadata": {},
     "output_type": "execute_result"
    }
   ],
   "source": [
    "description_list=[]\n",
    "i= N\n",
    "for description in all_descriptions:\n",
    "    if (i > 0):\n",
    "        description = description.text.strip()\n",
    "        description_list.append(description)\n",
    "        i=i-1 \n",
    "        \n",
    "description_list=pd.DataFrame(description_list)\n",
    "df=pd.DataFrame(description_list)\n",
    "description_list.columns=['description']\n",
    "description_list.head(N)"
   ]
  },
  {
   "cell_type": "code",
   "execution_count": 15,
   "metadata": {},
   "outputs": [
    {
     "data": {
      "text/html": [
       "<div>\n",
       "<style scoped>\n",
       "    .dataframe tbody tr th:only-of-type {\n",
       "        vertical-align: middle;\n",
       "    }\n",
       "\n",
       "    .dataframe tbody tr th {\n",
       "        vertical-align: top;\n",
       "    }\n",
       "\n",
       "    .dataframe thead th {\n",
       "        text-align: right;\n",
       "    }\n",
       "</style>\n",
       "<table border=\"1\" class=\"dataframe\">\n",
       "  <thead>\n",
       "    <tr style=\"text-align: right;\">\n",
       "      <th></th>\n",
       "      <th>link</th>\n",
       "      <th>title</th>\n",
       "      <th>description</th>\n",
       "    </tr>\n",
       "  </thead>\n",
       "  <tbody>\n",
       "    <tr>\n",
       "      <th>0</th>\n",
       "      <td>http://arxiv.org/abs/2102.11887</td>\n",
       "      <td>Title: Good Actors can come in Smaller Sizes: ...</td>\n",
       "      <td>Actors and critics in actor-critic reinforceme...</td>\n",
       "    </tr>\n",
       "    <tr>\n",
       "      <th>1</th>\n",
       "      <td>http://arxiv.org/abs/2102.11893</td>\n",
       "      <td>Title: Targeted False Data Injection Attack ag...</td>\n",
       "      <td>A novel false data injection attack (FDIA) mod...</td>\n",
       "    </tr>\n",
       "    <tr>\n",
       "      <th>2</th>\n",
       "      <td>http://arxiv.org/abs/2102.11896</td>\n",
       "      <td>Title: Construction of arbitrary order finite ...</td>\n",
       "      <td>We develop an approach to generating degree-of...</td>\n",
       "    </tr>\n",
       "    <tr>\n",
       "      <th>3</th>\n",
       "      <td>http://arxiv.org/abs/2102.11901</td>\n",
       "      <td>Title: Neural Ranking Models for Document Retr...</td>\n",
       "      <td>Ranking models are the main components of info...</td>\n",
       "    </tr>\n",
       "    <tr>\n",
       "      <th>4</th>\n",
       "      <td>http://arxiv.org/abs/2102.11903</td>\n",
       "      <td>Title: Grounded Relational Inference: Domain K...</td>\n",
       "      <td>Explainability is essential for autonomous veh...</td>\n",
       "    </tr>\n",
       "    <tr>\n",
       "      <th>5</th>\n",
       "      <td>http://arxiv.org/abs/2102.11905</td>\n",
       "      <td>Title: A predictive safety filter for learning...</td>\n",
       "      <td>The growing need for high-performance controll...</td>\n",
       "    </tr>\n",
       "    <tr>\n",
       "      <th>6</th>\n",
       "      <td>http://arxiv.org/abs/2102.11906</td>\n",
       "      <td>Title: Instance Specific Approximations for Su...</td>\n",
       "      <td>For many optimization problems in machine lear...</td>\n",
       "    </tr>\n",
       "  </tbody>\n",
       "</table>\n",
       "</div>"
      ],
      "text/plain": [
       "                              link  \\\n",
       "0  http://arxiv.org/abs/2102.11887   \n",
       "1  http://arxiv.org/abs/2102.11893   \n",
       "2  http://arxiv.org/abs/2102.11896   \n",
       "3  http://arxiv.org/abs/2102.11901   \n",
       "4  http://arxiv.org/abs/2102.11903   \n",
       "5  http://arxiv.org/abs/2102.11905   \n",
       "6  http://arxiv.org/abs/2102.11906   \n",
       "\n",
       "                                               title  \\\n",
       "0  Title: Good Actors can come in Smaller Sizes: ...   \n",
       "1  Title: Targeted False Data Injection Attack ag...   \n",
       "2  Title: Construction of arbitrary order finite ...   \n",
       "3  Title: Neural Ranking Models for Document Retr...   \n",
       "4  Title: Grounded Relational Inference: Domain K...   \n",
       "5  Title: A predictive safety filter for learning...   \n",
       "6  Title: Instance Specific Approximations for Su...   \n",
       "\n",
       "                                         description  \n",
       "0  Actors and critics in actor-critic reinforceme...  \n",
       "1  A novel false data injection attack (FDIA) mod...  \n",
       "2  We develop an approach to generating degree-of...  \n",
       "3  Ranking models are the main components of info...  \n",
       "4  Explainability is essential for autonomous veh...  \n",
       "5  The growing need for high-performance controll...  \n",
       "6  For many optimization problems in machine lear...  "
      ]
     },
     "execution_count": 15,
     "metadata": {},
     "output_type": "execute_result"
    }
   ],
   "source": [
    "# Making backup for all data\n",
    "resource_main = pd.concat([link_list, title_list], axis=1, join=\"inner\")\n",
    "resource_main = pd.concat([resource_main, description_list], axis=1, join=\"inner\")\n",
    "resource_main.to_csv('data/main_resource.csv', index=False) \n",
    "resource_main.head(N)"
   ]
  }
 ],
 "metadata": {
  "kernelspec": {
   "display_name": "Python 3",
   "language": "python",
   "name": "python3"
  },
  "language_info": {
   "codemirror_mode": {
    "name": "ipython",
    "version": 3
   },
   "file_extension": ".py",
   "mimetype": "text/x-python",
   "name": "python",
   "nbconvert_exporter": "python",
   "pygments_lexer": "ipython3",
   "version": "3.8.5"
  }
 },
 "nbformat": 4,
 "nbformat_minor": 4
}
