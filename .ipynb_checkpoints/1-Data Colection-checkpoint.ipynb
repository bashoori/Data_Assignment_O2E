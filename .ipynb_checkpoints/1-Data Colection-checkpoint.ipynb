{
 "cells": [
  {
   "cell_type": "code",
   "execution_count": 1,
   "metadata": {},
   "outputs": [],
   "source": [
    "import requests\n",
    "import re\n",
    "import urllib.request\n",
    "import bs4\n",
    "from bs4 import BeautifulSoup\n",
    "import pandas as pd\n",
    "from urllib.request import Request, urlopen\n",
    "import csv"
   ]
  },
  {
   "cell_type": "code",
   "execution_count": 2,
   "metadata": {},
   "outputs": [
    {
     "data": {
      "text/plain": [
       "<Response [200]>"
      ]
     },
     "execution_count": 2,
     "metadata": {},
     "output_type": "execute_result"
    }
   ],
   "source": [
    "#getting link address\n",
    "# Set the URL and Connect to the URL\n",
    "url = 'http://export.arxiv.org/rss/cs'\n",
    "response = requests.get(url)\n",
    "response"
   ]
  },
  {
   "cell_type": "code",
   "execution_count": 3,
   "metadata": {},
   "outputs": [],
   "source": [
    "# Parse HTML and save to BeautifulSoup object\n",
    "soup = BeautifulSoup(response.text, 'html.parser')\n",
    "#soup"
   ]
  },
  {
   "cell_type": "code",
   "execution_count": 4,
   "metadata": {},
   "outputs": [],
   "source": [
    "#To locate all  'rdf:li'  tags\n",
    "all_links = soup.find_all('rdf:li')\n",
    "#all_links"
   ]
  },
  {
   "cell_type": "code",
   "execution_count": 5,
   "metadata": {},
   "outputs": [],
   "source": [
    "# extract the actual link\n",
    "all_links=soup.findAll('rdf:li')\n",
    "#for link in all_links:\n",
    "#    print(link.get(\"rdf:resource\"))"
   ]
  },
  {
   "cell_type": "code",
   "execution_count": 6,
   "metadata": {},
   "outputs": [],
   "source": [
    "link_list=[]\n",
    "all_links=soup.findAll('rdf:li')\n",
    "for link in all_links:\n",
    "    link_list.append(link.get(\"rdf:resource\"))"
   ]
  },
  {
   "cell_type": "code",
   "execution_count": 7,
   "metadata": {},
   "outputs": [
    {
     "data": {
      "text/html": [
       "<div>\n",
       "<style scoped>\n",
       "    .dataframe tbody tr th:only-of-type {\n",
       "        vertical-align: middle;\n",
       "    }\n",
       "\n",
       "    .dataframe tbody tr th {\n",
       "        vertical-align: top;\n",
       "    }\n",
       "\n",
       "    .dataframe thead th {\n",
       "        text-align: right;\n",
       "    }\n",
       "</style>\n",
       "<table border=\"1\" class=\"dataframe\">\n",
       "  <thead>\n",
       "    <tr style=\"text-align: right;\">\n",
       "      <th></th>\n",
       "      <th>link</th>\n",
       "    </tr>\n",
       "  </thead>\n",
       "  <tbody>\n",
       "    <tr>\n",
       "      <th>0</th>\n",
       "      <td>http://arxiv.org/abs/2102.06219</td>\n",
       "    </tr>\n",
       "    <tr>\n",
       "      <th>1</th>\n",
       "      <td>http://arxiv.org/abs/2102.06228</td>\n",
       "    </tr>\n",
       "    <tr>\n",
       "      <th>2</th>\n",
       "      <td>http://arxiv.org/abs/2102.06229</td>\n",
       "    </tr>\n",
       "    <tr>\n",
       "      <th>3</th>\n",
       "      <td>http://arxiv.org/abs/2102.06231</td>\n",
       "    </tr>\n",
       "    <tr>\n",
       "      <th>4</th>\n",
       "      <td>http://arxiv.org/abs/2102.06234</td>\n",
       "    </tr>\n",
       "  </tbody>\n",
       "</table>\n",
       "</div>"
      ],
      "text/plain": [
       "                              link\n",
       "0  http://arxiv.org/abs/2102.06219\n",
       "1  http://arxiv.org/abs/2102.06228\n",
       "2  http://arxiv.org/abs/2102.06229\n",
       "3  http://arxiv.org/abs/2102.06231\n",
       "4  http://arxiv.org/abs/2102.06234"
      ]
     },
     "execution_count": 7,
     "metadata": {},
     "output_type": "execute_result"
    }
   ],
   "source": [
    "link_list=pd.DataFrame(link_list)\n",
    "link_list.columns=['link']\n",
    "link_list.head()"
   ]
  },
  {
   "cell_type": "code",
   "execution_count": 8,
   "metadata": {},
   "outputs": [
    {
     "data": {
      "text/plain": [
       "<Response [200]>"
      ]
     },
     "execution_count": 8,
     "metadata": {},
     "output_type": "execute_result"
    }
   ],
   "source": [
    "#getting title and description \n",
    "url1 = 'https://arxiv.org/list/cs/new'\n",
    "response1 = requests.get(url1)\n",
    "response1"
   ]
  },
  {
   "cell_type": "code",
   "execution_count": 9,
   "metadata": {},
   "outputs": [],
   "source": [
    "soup1 = BeautifulSoup(response1.text, 'html.parser')\n",
    "#soup1"
   ]
  },
  {
   "cell_type": "code",
   "execution_count": 10,
   "metadata": {},
   "outputs": [],
   "source": [
    "all_titles=soup1.find_all('div', class_='list-title mathjax')\n",
    "#print(all_titles)"
   ]
  },
  {
   "cell_type": "code",
   "execution_count": 11,
   "metadata": {},
   "outputs": [
    {
     "data": {
      "text/html": [
       "<div>\n",
       "<style scoped>\n",
       "    .dataframe tbody tr th:only-of-type {\n",
       "        vertical-align: middle;\n",
       "    }\n",
       "\n",
       "    .dataframe tbody tr th {\n",
       "        vertical-align: top;\n",
       "    }\n",
       "\n",
       "    .dataframe thead th {\n",
       "        text-align: right;\n",
       "    }\n",
       "</style>\n",
       "<table border=\"1\" class=\"dataframe\">\n",
       "  <thead>\n",
       "    <tr style=\"text-align: right;\">\n",
       "      <th></th>\n",
       "      <th>title</th>\n",
       "    </tr>\n",
       "  </thead>\n",
       "  <tbody>\n",
       "    <tr>\n",
       "      <th>0</th>\n",
       "      <td>Title: Silentium! Run-Analyse-Eradicate the No...</td>\n",
       "    </tr>\n",
       "    <tr>\n",
       "      <th>1</th>\n",
       "      <td>Title: Learning Gaussian-Bernoulli RBMs using ...</td>\n",
       "    </tr>\n",
       "    <tr>\n",
       "      <th>2</th>\n",
       "      <td>Title: To Reuse or Not To Reuse? A Framework a...</td>\n",
       "    </tr>\n",
       "    <tr>\n",
       "      <th>3</th>\n",
       "      <td>Title: Optimization Issues in KL-Constrained A...</td>\n",
       "    </tr>\n",
       "    <tr>\n",
       "      <th>4</th>\n",
       "      <td>Title: Robotic Tool Tracking under Partially V...</td>\n",
       "    </tr>\n",
       "  </tbody>\n",
       "</table>\n",
       "</div>"
      ],
      "text/plain": [
       "                                               title\n",
       "0  Title: Silentium! Run-Analyse-Eradicate the No...\n",
       "1  Title: Learning Gaussian-Bernoulli RBMs using ...\n",
       "2  Title: To Reuse or Not To Reuse? A Framework a...\n",
       "3  Title: Optimization Issues in KL-Constrained A...\n",
       "4  Title: Robotic Tool Tracking under Partially V..."
      ]
     },
     "execution_count": 11,
     "metadata": {},
     "output_type": "execute_result"
    }
   ],
   "source": [
    "title_list=[]\n",
    "for title in all_titles:\n",
    "    title = title.text.strip()\n",
    "    title_list.append(title)\n",
    "    \n",
    "title_list=pd.DataFrame(title_list)\n",
    "title_list.columns=['title']\n",
    "title_list.head()"
   ]
  },
  {
   "cell_type": "code",
   "execution_count": 12,
   "metadata": {},
   "outputs": [],
   "source": [
    "all_descriptions=soup1.find_all('p', class_='mathjax')\n",
    "#print(all_descriptions)"
   ]
  },
  {
   "cell_type": "code",
   "execution_count": 13,
   "metadata": {},
   "outputs": [
    {
     "data": {
      "text/html": [
       "<div>\n",
       "<style scoped>\n",
       "    .dataframe tbody tr th:only-of-type {\n",
       "        vertical-align: middle;\n",
       "    }\n",
       "\n",
       "    .dataframe tbody tr th {\n",
       "        vertical-align: top;\n",
       "    }\n",
       "\n",
       "    .dataframe thead th {\n",
       "        text-align: right;\n",
       "    }\n",
       "</style>\n",
       "<table border=\"1\" class=\"dataframe\">\n",
       "  <thead>\n",
       "    <tr style=\"text-align: right;\">\n",
       "      <th></th>\n",
       "      <th>description</th>\n",
       "    </tr>\n",
       "  </thead>\n",
       "  <tbody>\n",
       "    <tr>\n",
       "      <th>0</th>\n",
       "      <td>When multiple tenants compete for resources, d...</td>\n",
       "    </tr>\n",
       "    <tr>\n",
       "      <th>1</th>\n",
       "      <td>The Gaussian-Bernoulli restricted Boltzmann ma...</td>\n",
       "    </tr>\n",
       "    <tr>\n",
       "      <th>2</th>\n",
       "      <td>As the amount of information online continues ...</td>\n",
       "    </tr>\n",
       "    <tr>\n",
       "      <th>3</th>\n",
       "      <td>Many reinforcement learning algorithms can be ...</td>\n",
       "    </tr>\n",
       "    <tr>\n",
       "      <th>4</th>\n",
       "      <td>Anytime a robot manipulator is controlled via ...</td>\n",
       "    </tr>\n",
       "  </tbody>\n",
       "</table>\n",
       "</div>"
      ],
      "text/plain": [
       "                                         description\n",
       "0  When multiple tenants compete for resources, d...\n",
       "1  The Gaussian-Bernoulli restricted Boltzmann ma...\n",
       "2  As the amount of information online continues ...\n",
       "3  Many reinforcement learning algorithms can be ...\n",
       "4  Anytime a robot manipulator is controlled via ..."
      ]
     },
     "execution_count": 13,
     "metadata": {},
     "output_type": "execute_result"
    }
   ],
   "source": [
    "description_list=[]\n",
    "for description in all_descriptions:\n",
    "    description = description.text.strip()\n",
    "    description_list.append(description)\n",
    "\n",
    "description_list=pd.DataFrame(description_list)\n",
    "df=pd.DataFrame(description_list)\n",
    "description_list.columns=['description']\n",
    "description_list.head()"
   ]
  },
  {
   "cell_type": "code",
   "execution_count": 14,
   "metadata": {},
   "outputs": [
    {
     "data": {
      "text/html": [
       "<div>\n",
       "<style scoped>\n",
       "    .dataframe tbody tr th:only-of-type {\n",
       "        vertical-align: middle;\n",
       "    }\n",
       "\n",
       "    .dataframe tbody tr th {\n",
       "        vertical-align: top;\n",
       "    }\n",
       "\n",
       "    .dataframe thead th {\n",
       "        text-align: right;\n",
       "    }\n",
       "</style>\n",
       "<table border=\"1\" class=\"dataframe\">\n",
       "  <thead>\n",
       "    <tr style=\"text-align: right;\">\n",
       "      <th></th>\n",
       "      <th>link</th>\n",
       "      <th>title</th>\n",
       "      <th>description</th>\n",
       "    </tr>\n",
       "  </thead>\n",
       "  <tbody>\n",
       "    <tr>\n",
       "      <th>0</th>\n",
       "      <td>http://arxiv.org/abs/2102.06219</td>\n",
       "      <td>Title: Silentium! Run-Analyse-Eradicate the No...</td>\n",
       "      <td>When multiple tenants compete for resources, d...</td>\n",
       "    </tr>\n",
       "    <tr>\n",
       "      <th>1</th>\n",
       "      <td>http://arxiv.org/abs/2102.06228</td>\n",
       "      <td>Title: Learning Gaussian-Bernoulli RBMs using ...</td>\n",
       "      <td>The Gaussian-Bernoulli restricted Boltzmann ma...</td>\n",
       "    </tr>\n",
       "    <tr>\n",
       "      <th>2</th>\n",
       "      <td>http://arxiv.org/abs/2102.06229</td>\n",
       "      <td>Title: To Reuse or Not To Reuse? A Framework a...</td>\n",
       "      <td>As the amount of information online continues ...</td>\n",
       "    </tr>\n",
       "    <tr>\n",
       "      <th>3</th>\n",
       "      <td>http://arxiv.org/abs/2102.06231</td>\n",
       "      <td>Title: Optimization Issues in KL-Constrained A...</td>\n",
       "      <td>Many reinforcement learning algorithms can be ...</td>\n",
       "    </tr>\n",
       "    <tr>\n",
       "      <th>4</th>\n",
       "      <td>http://arxiv.org/abs/2102.06234</td>\n",
       "      <td>Title: Robotic Tool Tracking under Partially V...</td>\n",
       "      <td>Anytime a robot manipulator is controlled via ...</td>\n",
       "    </tr>\n",
       "  </tbody>\n",
       "</table>\n",
       "</div>"
      ],
      "text/plain": [
       "                              link  \\\n",
       "0  http://arxiv.org/abs/2102.06219   \n",
       "1  http://arxiv.org/abs/2102.06228   \n",
       "2  http://arxiv.org/abs/2102.06229   \n",
       "3  http://arxiv.org/abs/2102.06231   \n",
       "4  http://arxiv.org/abs/2102.06234   \n",
       "\n",
       "                                               title  \\\n",
       "0  Title: Silentium! Run-Analyse-Eradicate the No...   \n",
       "1  Title: Learning Gaussian-Bernoulli RBMs using ...   \n",
       "2  Title: To Reuse or Not To Reuse? A Framework a...   \n",
       "3  Title: Optimization Issues in KL-Constrained A...   \n",
       "4  Title: Robotic Tool Tracking under Partially V...   \n",
       "\n",
       "                                         description  \n",
       "0  When multiple tenants compete for resources, d...  \n",
       "1  The Gaussian-Bernoulli restricted Boltzmann ma...  \n",
       "2  As the amount of information online continues ...  \n",
       "3  Many reinforcement learning algorithms can be ...  \n",
       "4  Anytime a robot manipulator is controlled via ...  "
      ]
     },
     "execution_count": 14,
     "metadata": {},
     "output_type": "execute_result"
    }
   ],
   "source": [
    "# Making backup for all data\n",
    "resource_main = pd.concat([link_list, title_list], axis=1, join=\"inner\")\n",
    "resource_main = pd.concat([resource_main, description_list], axis=1, join=\"inner\")\n",
    "resource_main.to_csv('data/main_resource.csv', index=False) \n",
    "resource_main.head()"
   ]
  }
 ],
 "metadata": {
  "kernelspec": {
   "display_name": "Python 3",
   "language": "python",
   "name": "python3"
  },
  "language_info": {
   "codemirror_mode": {
    "name": "ipython",
    "version": 3
   },
   "file_extension": ".py",
   "mimetype": "text/x-python",
   "name": "python",
   "nbconvert_exporter": "python",
   "pygments_lexer": "ipython3",
   "version": "3.8.5"
  }
 },
 "nbformat": 4,
 "nbformat_minor": 4
}
