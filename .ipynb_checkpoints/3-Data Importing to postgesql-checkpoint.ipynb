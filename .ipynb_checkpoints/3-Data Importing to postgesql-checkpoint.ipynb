{
 "cells": [
  {
   "cell_type": "code",
   "execution_count": 1,
   "metadata": {},
   "outputs": [],
   "source": [
    "import pandas as pd\n",
    "import csv\n",
    "import psycopg2\n",
    "import logging"
   ]
  },
  {
   "cell_type": "code",
   "execution_count": 2,
   "metadata": {},
   "outputs": [
    {
     "name": "stdout",
     "output_type": "stream",
     "text": [
      "Database opened successfully\n"
     ]
    }
   ],
   "source": [
    "conn = psycopg2.connect(\"host=localhost\",\n",
    "                        database=\"ds\" ,\n",
    "                        user=\"postgres\",\n",
    "                        password=\"1234\"\n",
    "                        )\n",
    "#curser\n",
    "cur = conn.cursor()\n",
    "print(\"Database opened successfully\")"
   ]
  },
  {
   "cell_type": "code",
   "execution_count": 3,
   "metadata": {},
   "outputs": [],
   "source": [
    "create_Resources_table = \"\"\"\n",
    "CREATE TABLE IF NOT EXISTS Resources (\n",
    "    id          integer NOT NULL,\n",
    "    Link        Text,\n",
    "    Title       Text,\n",
    "    Description Text\n",
    "    )    \n",
    "\"\"\"\n",
    "cur.execute(create_Resources_table)"
   ]
  },
  {
   "cell_type": "code",
   "execution_count": 4,
   "metadata": {},
   "outputs": [],
   "source": [
    "#in_file = open('new_resourses.csv', 'r')\n",
    "data = None\n",
    "try:\n",
    "    data =  open('clean_resource.csv', 'r')\n",
    "    columns = data.readline().strip('\\n').split(',')\n",
    "except IOError:\n",
    "    logging.exception('')        \n",
    "if not data:\n",
    "    raise ValueError('No data available')    \n"
   ]
  },
  {
   "cell_type": "code",
   "execution_count": 5,
   "metadata": {},
   "outputs": [],
   "source": [
    "col_list=['link', 'title', 'description']\n",
    "\n",
    "with open('clean_resource.csv', 'r') as f:\n",
    "    next(f) # Skip the header row.    \n",
    "    cur.copy_from(f, 'Resources', sep=',', columns=('link', 'title', 'description'))\n",
    "data.close()  "
   ]
  },
  {
   "cell_type": "code",
   "execution_count": 6,
   "metadata": {},
   "outputs": [
    {
     "name": "stdout",
     "output_type": "stream",
     "text": [
      "Link:\n",
      "\r",
      "http://arxiv.org/abs/2102.06219\n",
      "\r",
      "Title:\n",
      "\r",
      " Silentium! Run-Analyse-Eradicate the Noise out of the DB/OS Stack\n",
      "\r",
      "Description:\n",
      "\r",
      " When multiple tenants compete for resources  database performance tends tosuffer. Yet there are scenarios where guaranteed sub-millisecond latencies arecrucial  such as in real-time data processing  IoT devices  or when operatingin safety-critical environments. In this paper  we study how to make querylatencies deterministic in the face of noise (whether caused by other tenantsor unrelated operating system tasks). We perform controlled experiments with anin-memory database engine in a multi-tenant setting  where we successivelyeradicate noisy interference from within the system software stack  to thepoint where the engine runs close to bare-metal on the underlying hardware.We show that we can achieve query latencies comparable to the database enginerunning as the sole tenant  but without noticeably impacting the workload ofcompeting tenants. We discuss these results in the context of ongoing effortsto build custom operating systems for database workloads  and point out thatfor certain use cases  the margin for improvement is rather narrow. In fact for scenarios like ours  existing operating systems might just be good enough provided that they are expertly configured. We then critically discuss thesefindings in the light of a broader family of database systems (e.g.  includingdisk-based)  and how to extend the approach of this paper accordingly.\n",
      "Link:\n",
      "\r",
      "http://arxiv.org/abs/2102.06228\n",
      "\r",
      "Title:\n",
      "\r",
      " Learning Gaussian-Bernoulli RBMs using Difference of Convex Functions  Optimization\n",
      "\r",
      "Description:\n",
      "\r",
      " The Gaussian-Bernoulli restricted Boltzmann machine (GB-RBM) is a usefulgenerative model that captures meaningful features from the given n -dimensional continuous data. The difficulties associated with learningGB-RBM are reported extensively in earlier studies. They indicate that thetraining of the GB-RBM using the current standard algorithms  namely contrastive divergence (CD) and persistent contrastive divergence (PCD)  needsa carefully chosen small learning rate to avoid divergence which  in turn results in slow learning. In this work  we alleviate such difficulties byshowing that the negative log-likelihood for a GB-RBM can be expressed as adifference of convex functions if we keep the variance of the conditionaldistribution of visible units (given hidden unit states) and the biases of thevisible units  constant. Using this  we propose a stochastic {em difference ofconvex functions} (DC) programming (S-DCP) algorithm for learning the GB-RBM.We present extensive empirical studies on several benchmark datasets tovalidate the performance of this S-DCP algorithm. It is seen that S-DCP isbetter than the CD and PCD algorithms in terms of speed of learning and thequality of the generative model learnt.\n"
     ]
    }
   ],
   "source": [
    "cur.execute('SELECT * FROM Resources limit 2')    \n",
    "rows=cur.fetchall()   \n",
    "    \n",
    "for r in rows:\n",
    "    print(f\"Link:\\n\\r{r[0]}\\n\\rTitle:\\n\\r{r[1]}\\n\\rDescription:\\n\\r {r[2]}\")      \n",
    "\n",
    "conn.commit()"
   ]
  },
  {
   "cell_type": "code",
   "execution_count": null,
   "metadata": {},
   "outputs": [],
   "source": []
  },
  {
   "cell_type": "code",
   "execution_count": null,
   "metadata": {},
   "outputs": [],
   "source": []
  },
  {
   "cell_type": "code",
   "execution_count": null,
   "metadata": {},
   "outputs": [],
   "source": []
  },
  {
   "cell_type": "code",
   "execution_count": null,
   "metadata": {},
   "outputs": [],
   "source": []
  },
  {
   "cell_type": "code",
   "execution_count": null,
   "metadata": {},
   "outputs": [],
   "source": []
  },
  {
   "cell_type": "code",
   "execution_count": null,
   "metadata": {},
   "outputs": [],
   "source": []
  },
  {
   "cell_type": "code",
   "execution_count": null,
   "metadata": {},
   "outputs": [],
   "source": []
  },
  {
   "cell_type": "code",
   "execution_count": null,
   "metadata": {},
   "outputs": [],
   "source": []
  }
 ],
 "metadata": {
  "kernelspec": {
   "display_name": "Python 3",
   "language": "python",
   "name": "python3"
  },
  "language_info": {
   "codemirror_mode": {
    "name": "ipython",
    "version": 3
   },
   "file_extension": ".py",
   "mimetype": "text/x-python",
   "name": "python",
   "nbconvert_exporter": "python",
   "pygments_lexer": "ipython3",
   "version": "3.8.5"
  }
 },
 "nbformat": 4,
 "nbformat_minor": 4
}
