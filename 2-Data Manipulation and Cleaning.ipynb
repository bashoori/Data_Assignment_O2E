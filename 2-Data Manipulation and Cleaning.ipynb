{
 "cells": [
  {
   "cell_type": "code",
   "execution_count": 1,
   "metadata": {},
   "outputs": [],
   "source": [
    "import pandas as pd\n",
    "import csv\n",
    "import re\n",
    "import string"
   ]
  },
  {
   "cell_type": "code",
   "execution_count": 2,
   "metadata": {},
   "outputs": [
    {
     "data": {
      "text/html": [
       "<div>\n",
       "<style scoped>\n",
       "    .dataframe tbody tr th:only-of-type {\n",
       "        vertical-align: middle;\n",
       "    }\n",
       "\n",
       "    .dataframe tbody tr th {\n",
       "        vertical-align: top;\n",
       "    }\n",
       "\n",
       "    .dataframe thead th {\n",
       "        text-align: right;\n",
       "    }\n",
       "</style>\n",
       "<table border=\"1\" class=\"dataframe\">\n",
       "  <thead>\n",
       "    <tr style=\"text-align: right;\">\n",
       "      <th></th>\n",
       "      <th>link</th>\n",
       "      <th>title</th>\n",
       "      <th>description</th>\n",
       "    </tr>\n",
       "  </thead>\n",
       "  <tbody>\n",
       "    <tr>\n",
       "      <th>0</th>\n",
       "      <td>http://arxiv.org/abs/2102.06219</td>\n",
       "      <td>Title: Silentium! Run-Analyse-Eradicate the No...</td>\n",
       "      <td>When multiple tenants compete for resources, d...</td>\n",
       "    </tr>\n",
       "    <tr>\n",
       "      <th>1</th>\n",
       "      <td>http://arxiv.org/abs/2102.06228</td>\n",
       "      <td>Title: Learning Gaussian-Bernoulli RBMs using ...</td>\n",
       "      <td>The Gaussian-Bernoulli restricted Boltzmann ma...</td>\n",
       "    </tr>\n",
       "    <tr>\n",
       "      <th>2</th>\n",
       "      <td>http://arxiv.org/abs/2102.06229</td>\n",
       "      <td>Title: To Reuse or Not To Reuse? A Framework a...</td>\n",
       "      <td>As the amount of information online continues ...</td>\n",
       "    </tr>\n",
       "    <tr>\n",
       "      <th>3</th>\n",
       "      <td>http://arxiv.org/abs/2102.06231</td>\n",
       "      <td>Title: Optimization Issues in KL-Constrained A...</td>\n",
       "      <td>Many reinforcement learning algorithms can be ...</td>\n",
       "    </tr>\n",
       "    <tr>\n",
       "      <th>4</th>\n",
       "      <td>http://arxiv.org/abs/2102.06234</td>\n",
       "      <td>Title: Robotic Tool Tracking under Partially V...</td>\n",
       "      <td>Anytime a robot manipulator is controlled via ...</td>\n",
       "    </tr>\n",
       "  </tbody>\n",
       "</table>\n",
       "</div>"
      ],
      "text/plain": [
       "                              link  \\\n",
       "0  http://arxiv.org/abs/2102.06219   \n",
       "1  http://arxiv.org/abs/2102.06228   \n",
       "2  http://arxiv.org/abs/2102.06229   \n",
       "3  http://arxiv.org/abs/2102.06231   \n",
       "4  http://arxiv.org/abs/2102.06234   \n",
       "\n",
       "                                               title  \\\n",
       "0  Title: Silentium! Run-Analyse-Eradicate the No...   \n",
       "1  Title: Learning Gaussian-Bernoulli RBMs using ...   \n",
       "2  Title: To Reuse or Not To Reuse? A Framework a...   \n",
       "3  Title: Optimization Issues in KL-Constrained A...   \n",
       "4  Title: Robotic Tool Tracking under Partially V...   \n",
       "\n",
       "                                         description  \n",
       "0  When multiple tenants compete for resources, d...  \n",
       "1  The Gaussian-Bernoulli restricted Boltzmann ma...  \n",
       "2  As the amount of information online continues ...  \n",
       "3  Many reinforcement learning algorithms can be ...  \n",
       "4  Anytime a robot manipulator is controlled via ...  "
      ]
     },
     "execution_count": 2,
     "metadata": {},
     "output_type": "execute_result"
    }
   ],
   "source": [
    "df=pd.read_csv('data/main_resource.csv')\n",
    "df.head()"
   ]
  },
  {
   "cell_type": "code",
   "execution_count": 3,
   "metadata": {},
   "outputs": [
    {
     "name": "stdout",
     "output_type": "stream",
     "text": [
      "<class 'pandas.core.frame.DataFrame'>\n",
      "RangeIndex: 234 entries, 0 to 233\n",
      "Data columns (total 3 columns):\n",
      " #   Column       Non-Null Count  Dtype \n",
      "---  ------       --------------  ----- \n",
      " 0   link         234 non-null    object\n",
      " 1   title        234 non-null    object\n",
      " 2   description  234 non-null    object\n",
      "dtypes: object(3)\n",
      "memory usage: 5.6+ KB\n"
     ]
    }
   ],
   "source": [
    "df.info()"
   ]
  },
  {
   "cell_type": "code",
   "execution_count": 4,
   "metadata": {},
   "outputs": [
    {
     "name": "stdout",
     "output_type": "stream",
     "text": [
      "<class 'pandas.core.frame.DataFrame'>\n",
      "RangeIndex: 234 entries, 0 to 233\n",
      "Data columns (total 3 columns):\n",
      " #   Column       Non-Null Count  Dtype \n",
      "---  ------       --------------  ----- \n",
      " 0   link         234 non-null    object\n",
      " 1   title        234 non-null    object\n",
      " 2   description  234 non-null    object\n",
      "dtypes: object(3)\n",
      "memory usage: 5.6+ KB\n"
     ]
    }
   ],
   "source": [
    "#df = df.astype('string') \n",
    "df.info()"
   ]
  },
  {
   "cell_type": "markdown",
   "metadata": {},
   "source": [
    "## cleaning features:"
   ]
  },
  {
   "cell_type": "markdown",
   "metadata": {},
   "source": [
    "### Link"
   ]
  },
  {
   "cell_type": "code",
   "execution_count": 5,
   "metadata": {},
   "outputs": [
    {
     "data": {
      "text/plain": [
       "0    http://arxiv.org/abs/2102.06219\n",
       "1    http://arxiv.org/abs/2102.06228\n",
       "2    http://arxiv.org/abs/2102.06229\n",
       "3    http://arxiv.org/abs/2102.06231\n",
       "4    http://arxiv.org/abs/2102.06234\n",
       "Name: link, dtype: object"
      ]
     },
     "execution_count": 5,
     "metadata": {},
     "output_type": "execute_result"
    }
   ],
   "source": [
    "df['link'].head()"
   ]
  },
  {
   "cell_type": "code",
   "execution_count": 6,
   "metadata": {},
   "outputs": [
    {
     "data": {
      "text/html": [
       "<div>\n",
       "<style scoped>\n",
       "    .dataframe tbody tr th:only-of-type {\n",
       "        vertical-align: middle;\n",
       "    }\n",
       "\n",
       "    .dataframe tbody tr th {\n",
       "        vertical-align: top;\n",
       "    }\n",
       "\n",
       "    .dataframe thead th {\n",
       "        text-align: right;\n",
       "    }\n",
       "</style>\n",
       "<table border=\"1\" class=\"dataframe\">\n",
       "  <thead>\n",
       "    <tr style=\"text-align: right;\">\n",
       "      <th></th>\n",
       "      <th>link</th>\n",
       "      <th>title</th>\n",
       "      <th>description</th>\n",
       "      <th>id</th>\n",
       "    </tr>\n",
       "  </thead>\n",
       "  <tbody>\n",
       "    <tr>\n",
       "      <th>0</th>\n",
       "      <td>http://arxiv.org/abs/2102.06219</td>\n",
       "      <td>Title: Silentium! Run-Analyse-Eradicate the No...</td>\n",
       "      <td>When multiple tenants compete for resources, d...</td>\n",
       "      <td>06219</td>\n",
       "    </tr>\n",
       "    <tr>\n",
       "      <th>1</th>\n",
       "      <td>http://arxiv.org/abs/2102.06228</td>\n",
       "      <td>Title: Learning Gaussian-Bernoulli RBMs using ...</td>\n",
       "      <td>The Gaussian-Bernoulli restricted Boltzmann ma...</td>\n",
       "      <td>06228</td>\n",
       "    </tr>\n",
       "    <tr>\n",
       "      <th>2</th>\n",
       "      <td>http://arxiv.org/abs/2102.06229</td>\n",
       "      <td>Title: To Reuse or Not To Reuse? A Framework a...</td>\n",
       "      <td>As the amount of information online continues ...</td>\n",
       "      <td>06229</td>\n",
       "    </tr>\n",
       "    <tr>\n",
       "      <th>3</th>\n",
       "      <td>http://arxiv.org/abs/2102.06231</td>\n",
       "      <td>Title: Optimization Issues in KL-Constrained A...</td>\n",
       "      <td>Many reinforcement learning algorithms can be ...</td>\n",
       "      <td>06231</td>\n",
       "    </tr>\n",
       "    <tr>\n",
       "      <th>4</th>\n",
       "      <td>http://arxiv.org/abs/2102.06234</td>\n",
       "      <td>Title: Robotic Tool Tracking under Partially V...</td>\n",
       "      <td>Anytime a robot manipulator is controlled via ...</td>\n",
       "      <td>06234</td>\n",
       "    </tr>\n",
       "  </tbody>\n",
       "</table>\n",
       "</div>"
      ],
      "text/plain": [
       "                              link  \\\n",
       "0  http://arxiv.org/abs/2102.06219   \n",
       "1  http://arxiv.org/abs/2102.06228   \n",
       "2  http://arxiv.org/abs/2102.06229   \n",
       "3  http://arxiv.org/abs/2102.06231   \n",
       "4  http://arxiv.org/abs/2102.06234   \n",
       "\n",
       "                                               title  \\\n",
       "0  Title: Silentium! Run-Analyse-Eradicate the No...   \n",
       "1  Title: Learning Gaussian-Bernoulli RBMs using ...   \n",
       "2  Title: To Reuse or Not To Reuse? A Framework a...   \n",
       "3  Title: Optimization Issues in KL-Constrained A...   \n",
       "4  Title: Robotic Tool Tracking under Partially V...   \n",
       "\n",
       "                                         description     id  \n",
       "0  When multiple tenants compete for resources, d...  06219  \n",
       "1  The Gaussian-Bernoulli restricted Boltzmann ma...  06228  \n",
       "2  As the amount of information online continues ...  06229  \n",
       "3  Many reinforcement learning algorithms can be ...  06231  \n",
       "4  Anytime a robot manipulator is controlled via ...  06234  "
      ]
     },
     "execution_count": 6,
     "metadata": {},
     "output_type": "execute_result"
    }
   ],
   "source": [
    "df['id']=df['link'].str.slice(26,)\n",
    "df.head()"
   ]
  },
  {
   "cell_type": "markdown",
   "metadata": {},
   "source": [
    "### Title"
   ]
  },
  {
   "cell_type": "code",
   "execution_count": 7,
   "metadata": {},
   "outputs": [
    {
     "data": {
      "text/plain": [
       "0    Title: Silentium! Run-Analyse-Eradicate the No...\n",
       "1    Title: Learning Gaussian-Bernoulli RBMs using ...\n",
       "2    Title: To Reuse or Not To Reuse? A Framework a...\n",
       "3    Title: Optimization Issues in KL-Constrained A...\n",
       "4    Title: Robotic Tool Tracking under Partially V...\n",
       "Name: title, dtype: object"
      ]
     },
     "execution_count": 7,
     "metadata": {},
     "output_type": "execute_result"
    }
   ],
   "source": [
    "df['title'].head()"
   ]
  },
  {
   "cell_type": "code",
   "execution_count": 8,
   "metadata": {},
   "outputs": [
    {
     "data": {
      "text/plain": [
       "0     Silentium! Run-Analyse-Eradicate the Noise ou...\n",
       "1     Learning Gaussian-Bernoulli RBMs using Differ...\n",
       "2     To Reuse or Not To Reuse? A Framework and Sys...\n",
       "3     Optimization Issues in KL-Constrained Approxi...\n",
       "4     Robotic Tool Tracking under Partially Visible...\n",
       "Name: new_title, dtype: object"
      ]
     },
     "execution_count": 8,
     "metadata": {},
     "output_type": "execute_result"
    }
   ],
   "source": [
    "df['new_title'] = df['title'].str.slice(6,)\n",
    "df['new_title'].head()"
   ]
  },
  {
   "cell_type": "code",
   "execution_count": 9,
   "metadata": {},
   "outputs": [
    {
     "data": {
      "text/plain": [
       "0     Silentium! Run-Analyse-Eradicate the Noise ou...\n",
       "1     Learning Gaussian-Bernoulli RBMs using Differ...\n",
       "2     To Reuse or Not To Reuse? A Framework and Sys...\n",
       "3     Optimization Issues in KL-Constrained Approxi...\n",
       "4     Robotic Tool Tracking under Partially Visible...\n",
       "Name: new_title, dtype: object"
      ]
     },
     "execution_count": 9,
     "metadata": {},
     "output_type": "execute_result"
    }
   ],
   "source": [
    "df['new_title'].replace(to_replace=[r\"\\\\t|\\\\n|\\\\r\", \"\\t|\\n|\\r\"], value=[\" \",\"\"], regex=True, inplace=True)\n",
    "df['new_title']=df['new_title'].str.replace(',', ' ')\n",
    "df['new_title']=df['new_title'].str.replace('\"', ' ')\n",
    "df['new_title']=df['new_title'].str.replace('$', ' ')\n",
    "df['new_title'].head()\n"
   ]
  },
  {
   "cell_type": "code",
   "execution_count": 10,
   "metadata": {},
   "outputs": [],
   "source": [
    "#df.drop(['title'], axis=1, inplace=True)"
   ]
  },
  {
   "cell_type": "markdown",
   "metadata": {},
   "source": [
    "### Description"
   ]
  },
  {
   "cell_type": "code",
   "execution_count": 11,
   "metadata": {},
   "outputs": [
    {
     "data": {
      "text/plain": [
       "0    When multiple tenants compete for resources, d...\n",
       "1    The Gaussian-Bernoulli restricted Boltzmann ma...\n",
       "2    As the amount of information online continues ...\n",
       "3    Many reinforcement learning algorithms can be ...\n",
       "4    Anytime a robot manipulator is controlled via ...\n",
       "Name: description, dtype: object"
      ]
     },
     "execution_count": 11,
     "metadata": {},
     "output_type": "execute_result"
    }
   ],
   "source": [
    "df['description'].head()"
   ]
  },
  {
   "cell_type": "code",
   "execution_count": 12,
   "metadata": {},
   "outputs": [
    {
     "data": {
      "text/plain": [
       "0    When multiple tenants compete for resources  d...\n",
       "1    The Gaussian-Bernoulli restricted Boltzmann ma...\n",
       "2    As the amount of information online continues ...\n",
       "3    Many reinforcement learning algorithms can be ...\n",
       "4    Anytime a robot manipulator is controlled via ...\n",
       "Name: new_description, dtype: object"
      ]
     },
     "execution_count": 12,
     "metadata": {},
     "output_type": "execute_result"
    }
   ],
   "source": [
    "df['new_description']=df['description']\n",
    "df['new_description'].replace(to_replace=[r\"\\\\t|\\\\n|\\\\r\", \"\\t|\\n|\\r\"], value=[\" \",\"\"], regex=True, inplace=True)\n",
    "df['new_description']=df['new_description'].str.replace(',', ' ')\n",
    "df['new_description']=df['new_description'].str.replace('\"', ' ')\n",
    "df['new_description']=df['new_description'].str.replace('$', ' ')\n",
    "df['new_description'].head()"
   ]
  },
  {
   "cell_type": "markdown",
   "metadata": {},
   "source": [
    "## concact all "
   ]
  },
  {
   "cell_type": "code",
   "execution_count": 13,
   "metadata": {},
   "outputs": [
    {
     "data": {
      "text/plain": [
       "(234, 4)"
      ]
     },
     "execution_count": 13,
     "metadata": {},
     "output_type": "execute_result"
    }
   ],
   "source": [
    "result = pd.concat([df['id'], df['link']], axis=1, join=\"inner\")\n",
    "result = pd.concat([result, df['new_title']], axis=1, join=\"inner\")\n",
    "result = pd.concat([result, df['new_description']], axis=1, join=\"inner\")\n",
    "result.shape"
   ]
  },
  {
   "cell_type": "code",
   "execution_count": 14,
   "metadata": {},
   "outputs": [
    {
     "data": {
      "text/html": [
       "<div>\n",
       "<style scoped>\n",
       "    .dataframe tbody tr th:only-of-type {\n",
       "        vertical-align: middle;\n",
       "    }\n",
       "\n",
       "    .dataframe tbody tr th {\n",
       "        vertical-align: top;\n",
       "    }\n",
       "\n",
       "    .dataframe thead th {\n",
       "        text-align: right;\n",
       "    }\n",
       "</style>\n",
       "<table border=\"1\" class=\"dataframe\">\n",
       "  <thead>\n",
       "    <tr style=\"text-align: right;\">\n",
       "      <th></th>\n",
       "      <th>id</th>\n",
       "      <th>link</th>\n",
       "      <th>title</th>\n",
       "      <th>description</th>\n",
       "    </tr>\n",
       "  </thead>\n",
       "  <tbody>\n",
       "    <tr>\n",
       "      <th>0</th>\n",
       "      <td>06219</td>\n",
       "      <td>http://arxiv.org/abs/2102.06219</td>\n",
       "      <td>Silentium! Run-Analyse-Eradicate the Noise ou...</td>\n",
       "      <td>When multiple tenants compete for resources  d...</td>\n",
       "    </tr>\n",
       "    <tr>\n",
       "      <th>1</th>\n",
       "      <td>06228</td>\n",
       "      <td>http://arxiv.org/abs/2102.06228</td>\n",
       "      <td>Learning Gaussian-Bernoulli RBMs using Differ...</td>\n",
       "      <td>The Gaussian-Bernoulli restricted Boltzmann ma...</td>\n",
       "    </tr>\n",
       "    <tr>\n",
       "      <th>2</th>\n",
       "      <td>06229</td>\n",
       "      <td>http://arxiv.org/abs/2102.06229</td>\n",
       "      <td>To Reuse or Not To Reuse? A Framework and Sys...</td>\n",
       "      <td>As the amount of information online continues ...</td>\n",
       "    </tr>\n",
       "    <tr>\n",
       "      <th>3</th>\n",
       "      <td>06231</td>\n",
       "      <td>http://arxiv.org/abs/2102.06231</td>\n",
       "      <td>Optimization Issues in KL-Constrained Approxi...</td>\n",
       "      <td>Many reinforcement learning algorithms can be ...</td>\n",
       "    </tr>\n",
       "    <tr>\n",
       "      <th>4</th>\n",
       "      <td>06234</td>\n",
       "      <td>http://arxiv.org/abs/2102.06234</td>\n",
       "      <td>Robotic Tool Tracking under Partially Visible...</td>\n",
       "      <td>Anytime a robot manipulator is controlled via ...</td>\n",
       "    </tr>\n",
       "  </tbody>\n",
       "</table>\n",
       "</div>"
      ],
      "text/plain": [
       "      id                             link  \\\n",
       "0  06219  http://arxiv.org/abs/2102.06219   \n",
       "1  06228  http://arxiv.org/abs/2102.06228   \n",
       "2  06229  http://arxiv.org/abs/2102.06229   \n",
       "3  06231  http://arxiv.org/abs/2102.06231   \n",
       "4  06234  http://arxiv.org/abs/2102.06234   \n",
       "\n",
       "                                               title  \\\n",
       "0   Silentium! Run-Analyse-Eradicate the Noise ou...   \n",
       "1   Learning Gaussian-Bernoulli RBMs using Differ...   \n",
       "2   To Reuse or Not To Reuse? A Framework and Sys...   \n",
       "3   Optimization Issues in KL-Constrained Approxi...   \n",
       "4   Robotic Tool Tracking under Partially Visible...   \n",
       "\n",
       "                                         description  \n",
       "0  When multiple tenants compete for resources  d...  \n",
       "1  The Gaussian-Bernoulli restricted Boltzmann ma...  \n",
       "2  As the amount of information online continues ...  \n",
       "3  Many reinforcement learning algorithms can be ...  \n",
       "4  Anytime a robot manipulator is controlled via ...  "
      ]
     },
     "execution_count": 14,
     "metadata": {},
     "output_type": "execute_result"
    }
   ],
   "source": [
    "result.columns=['id','link','title','description']\n",
    "result.head()"
   ]
  },
  {
   "cell_type": "code",
   "execution_count": 15,
   "metadata": {},
   "outputs": [
    {
     "name": "stdout",
     "output_type": "stream",
     "text": [
      "<class 'pandas.core.frame.DataFrame'>\n",
      "RangeIndex: 234 entries, 0 to 233\n",
      "Data columns (total 4 columns):\n",
      " #   Column       Non-Null Count  Dtype \n",
      "---  ------       --------------  ----- \n",
      " 0   id           234 non-null    object\n",
      " 1   link         234 non-null    object\n",
      " 2   title        234 non-null    object\n",
      " 3   description  234 non-null    object\n",
      "dtypes: object(4)\n",
      "memory usage: 7.4+ KB\n"
     ]
    }
   ],
   "source": [
    "result.info()"
   ]
  },
  {
   "cell_type": "code",
   "execution_count": 16,
   "metadata": {},
   "outputs": [
    {
     "name": "stdout",
     "output_type": "stream",
     "text": [
      "<class 'pandas.core.frame.DataFrame'>\n",
      "RangeIndex: 234 entries, 0 to 233\n",
      "Data columns (total 4 columns):\n",
      " #   Column       Non-Null Count  Dtype \n",
      "---  ------       --------------  ----- \n",
      " 0   id           234 non-null    string\n",
      " 1   link         234 non-null    string\n",
      " 2   title        234 non-null    string\n",
      " 3   description  234 non-null    string\n",
      "dtypes: string(4)\n",
      "memory usage: 7.4 KB\n"
     ]
    }
   ],
   "source": [
    "result = result.astype('string') \n",
    "result.info()"
   ]
  },
  {
   "cell_type": "code",
   "execution_count": 17,
   "metadata": {},
   "outputs": [],
   "source": [
    "result.to_csv('data/clean_resource.csv', index=False) "
   ]
  }
 ],
 "metadata": {
  "kernelspec": {
   "display_name": "Python 3",
   "language": "python",
   "name": "python3"
  },
  "language_info": {
   "codemirror_mode": {
    "name": "ipython",
    "version": 3
   },
   "file_extension": ".py",
   "mimetype": "text/x-python",
   "name": "python",
   "nbconvert_exporter": "python",
   "pygments_lexer": "ipython3",
   "version": "3.8.5"
  }
 },
 "nbformat": 4,
 "nbformat_minor": 4
}
